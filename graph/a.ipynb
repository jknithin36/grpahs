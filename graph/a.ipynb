{
 "cells": [
  {
   "cell_type": "code",
   "execution_count": 1,
   "id": "8013873e",
   "metadata": {},
   "outputs": [
    {
     "name": "stdout",
     "output_type": "stream",
     "text": [
      "helllo\n"
     ]
    }
   ],
   "source": [
    "print(\"helllo\")"
   ]
  },
  {
   "cell_type": "code",
   "execution_count": 6,
   "id": "3937dcff",
   "metadata": {},
   "outputs": [
    {
     "name": "stdout",
     "output_type": "stream",
     "text": [
      "{'A': ['B', 'C'], 'B': ['A', 'D', 'E'], 'C': ['A', 'C'], 'D': ['B', 'E', 'F'], 'E': ['B', 'C', 'D'], 'F': ['D', 'F']}\n",
      "{'A': ['B', 'C'], 'B': ['A', 'D', 'E'], 'C': ['A', 'C'], 'D': ['B', 'E', 'F'], 'E': ['B', 'C', 'D', 'F'], 'F': ['D', 'F']}\n"
     ]
    }
   ],
   "source": [
    "# creation of graph \n",
    "\n",
    "# \n",
    "\n",
    "class Graph:\n",
    "    def __init__(self, gdict = None):\n",
    "        if gdict is None:\n",
    "            self.gdict = {}\n",
    "\n",
    "        self.gdict = gdict\n",
    "\n",
    "\n",
    "    def add_edge(self, vertex, edge):\n",
    "        self.gdict[vertex].append(edge)\n",
    "\n",
    "\n",
    "\n",
    "\n",
    "custom_dict = {\n",
    "    \"A\":[\"B\", \"C\"],   \n",
    "    \"B\":[\"A\", \"D\", \"E\"],\n",
    "    \"C\":[\"A\", \"C\"],\n",
    "    \"D\":[\"B\", \"E\", \"F\"],\n",
    "    \"E\":[\"B\", \"C\", \"D\"],\n",
    "    \"F\":[\"D\", \"F\"]\n",
    "}\n",
    "\n",
    "\n",
    "graph = Graph(custom_dict)\n",
    "\n",
    "\n",
    "print(graph.gdict)\n",
    "graph.add_edge(\"E\",\"F\")\n",
    "print(graph.gdict)\n",
    "\n",
    "        "
   ]
  }
 ],
 "metadata": {
  "kernelspec": {
   "display_name": "Python 3",
   "language": "python",
   "name": "python3"
  },
  "language_info": {
   "codemirror_mode": {
    "name": "ipython",
    "version": 3
   },
   "file_extension": ".py",
   "mimetype": "text/x-python",
   "name": "python",
   "nbconvert_exporter": "python",
   "pygments_lexer": "ipython3",
   "version": "3.12.1"
  }
 },
 "nbformat": 4,
 "nbformat_minor": 5
}
